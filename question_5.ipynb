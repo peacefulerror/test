{
 "cells": [
  {
   "cell_type": "code",
   "execution_count": 1,
   "id": "301db713",
   "metadata": {},
   "outputs": [],
   "source": [
    "import pandas as pd"
   ]
  },
  {
   "cell_type": "code",
   "execution_count": 3,
   "id": "7fc69bb5",
   "metadata": {},
   "outputs": [],
   "source": [
    "# Load the imputed dataset into a DataFrame\n",
    "df = pd.read_csv('country_vaccination_stats.csv')"
   ]
  },
  {
   "cell_type": "code",
   "execution_count": 4,
   "id": "51011813",
   "metadata": {},
   "outputs": [
    {
     "name": "stdout",
     "output_type": "stream",
     "text": [
      "['Turkey', 'Italy', 'France']\n"
     ]
    }
   ],
   "source": [
    "# Group the DataFrame by country and calculate the median daily vaccinations\n",
    "median_vaccinations = df.groupby('country')['daily_vaccinations'].median()\n",
    "\n",
    "# Sort the median vaccination numbers in descending order and list the top-3 countries\n",
    "top_3 = median_vaccinations.sort_values(ascending=False).head(3)\n",
    "\n",
    "# Print the top-3 countries with highest median daily vaccinations\n",
    "print(top_3.index.tolist())"
   ]
  },
  {
   "cell_type": "code",
   "execution_count": null,
   "id": "259bbc64",
   "metadata": {},
   "outputs": [],
   "source": []
  }
 ],
 "metadata": {
  "kernelspec": {
   "display_name": "Python 3 (ipykernel)",
   "language": "python",
   "name": "python3"
  },
  "language_info": {
   "codemirror_mode": {
    "name": "ipython",
    "version": 3
   },
   "file_extension": ".py",
   "mimetype": "text/x-python",
   "name": "python",
   "nbconvert_exporter": "python",
   "pygments_lexer": "ipython3",
   "version": "3.9.13"
  }
 },
 "nbformat": 4,
 "nbformat_minor": 5
}
