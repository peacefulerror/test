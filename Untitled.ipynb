{
 "cells": [
  {
   "cell_type": "code",
   "execution_count": 1,
   "id": "9023f361",
   "metadata": {},
   "outputs": [],
   "source": [
    "import pandas as pd"
   ]
  },
  {
   "cell_type": "code",
   "execution_count": 3,
   "id": "cdaeead9",
   "metadata": {},
   "outputs": [],
   "source": [
    "# Load the dataset into a DataFrame\n",
    "df = pd.read_csv('country_vaccination_stats.csv')\n",
    "\n",
    "# Fill missing values with 0\n",
    "df['daily_vaccinations'] = df['daily_vaccinations'].fillna(0)"
   ]
  },
  {
   "cell_type": "code",
   "execution_count": 4,
   "id": "ea994515",
   "metadata": {},
   "outputs": [],
   "source": [
    "# Group the DataFrame by country and find the minimum daily vaccinations\n",
    "min_vaccinations = df.groupby('country')['daily_vaccinations'].min()\n",
    "\n",
    "# Iterate over each row in the DataFrame and replace missing values with the minimum\n",
    "for i, row in df.iterrows():\n",
    "    if pd.isna(row['daily_vaccinations']):\n",
    "        df.at[i, 'daily_vaccinations'] = min_vaccinations[row['country']]\n",
    "\n",
    "# Save the imputed dataset to a new file\n",
    "df.to_csv('vaccinations_imputed.csv', index=False)"
   ]
  },
  {
   "cell_type": "code",
   "execution_count": null,
   "id": "2867f41f",
   "metadata": {},
   "outputs": [],
   "source": []
  }
 ],
 "metadata": {
  "kernelspec": {
   "display_name": "Python 3 (ipykernel)",
   "language": "python",
   "name": "python3"
  },
  "language_info": {
   "codemirror_mode": {
    "name": "ipython",
    "version": 3
   },
   "file_extension": ".py",
   "mimetype": "text/x-python",
   "name": "python",
   "nbconvert_exporter": "python",
   "pygments_lexer": "ipython3",
   "version": "3.9.13"
  }
 },
 "nbformat": 4,
 "nbformat_minor": 5
}
