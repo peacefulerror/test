{
 "cells": [
  {
   "cell_type": "code",
   "execution_count": 6,
   "id": "df573d7c",
   "metadata": {},
   "outputs": [],
   "source": [
    "import pandas as pd"
   ]
  },
  {
   "cell_type": "code",
   "execution_count": 7,
   "id": "898c54b4",
   "metadata": {},
   "outputs": [],
   "source": [
    "# create a sample dataframe with Device_Type and Stats_Access_Link columns\n",
    "df = pd.DataFrame({\n",
    "    'Device_Type': ['AXO145', 'TRU151'],\n",
    "    'Stats_Access_Link': [\n",
    "        '<url>https://xcd32112.smart_meter.com<url>',\n",
    "        '<url>http://tXh67.dia_meter.com<url>'\n",
    "    ]\n",
    "})"
   ]
  },
  {
   "cell_type": "code",
   "execution_count": 8,
   "id": "c9ac1da3",
   "metadata": {},
   "outputs": [],
   "source": [
    "# define a function to extract the pure URL based on device type\n",
    "def extract_url(device_type):\n",
    "    # filter the dataframe to get the rows for the given device type\n",
    "    filtered_df = df[df['Device_Type'] == device_type]\n",
    "    # extract the pure URL using string manipulation\n",
    "    url = filtered_df['Stats_Access_Link'].str.split('/', 3).str[2].str.split('<', 1).str[0].iloc[0]\n",
    "    return url"
   ]
  },
  {
   "cell_type": "code",
   "execution_count": 9,
   "id": "7c75d7d5",
   "metadata": {},
   "outputs": [],
   "source": [
    "# loop through the device types and update the corresponding rows in the dataframe\n",
    "for device_type in df['Device_Type']:\n",
    "    url = extract_url(device_type)\n",
    "    df.loc[df['Device_Type'] == device_type, 'Stats_Access_Link'] = url"
   ]
  },
  {
   "cell_type": "code",
   "execution_count": 10,
   "id": "eec05eb3",
   "metadata": {},
   "outputs": [
    {
     "name": "stdout",
     "output_type": "stream",
     "text": [
      "  Device_Type         Stats_Access_Link\n",
      "0      AXO145  xcd32112.smart_meter.com\n",
      "1      TRU151       tXh67.dia_meter.com\n"
     ]
    }
   ],
   "source": [
    "print(df)"
   ]
  },
  {
   "cell_type": "code",
   "execution_count": null,
   "id": "cde93717",
   "metadata": {},
   "outputs": [],
   "source": []
  }
 ],
 "metadata": {
  "kernelspec": {
   "display_name": "Python 3 (ipykernel)",
   "language": "python",
   "name": "python3"
  },
  "language_info": {
   "codemirror_mode": {
    "name": "ipython",
    "version": 3
   },
   "file_extension": ".py",
   "mimetype": "text/x-python",
   "name": "python",
   "nbconvert_exporter": "python",
   "pygments_lexer": "ipython3",
   "version": "3.9.13"
  }
 },
 "nbformat": 4,
 "nbformat_minor": 5
}
